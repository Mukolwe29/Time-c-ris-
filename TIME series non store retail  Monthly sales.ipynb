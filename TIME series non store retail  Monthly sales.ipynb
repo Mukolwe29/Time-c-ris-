{
 "cells": [
  {
   "cell_type": "code",
   "execution_count": 2,
   "metadata": {},
   "outputs": [],
   "source": [
    "import pandas as pd\n",
    "\n",
    "# URL of the Excel file from Census Bureau\n",
    "url = 'https://www.census.gov/econ_export/?format=xls&mode=report&default=false&errormode=Dep&charttype=&chartmode=&chartadjn=&submit=GET+DATA&program=MARTS&startYear=1992&endYear=2023&categories%5B0%5D=454&dataType=SM&geoLevel=US&adjusted=false&notAdjusted=true&errorData=false'\n",
    "\n",
    "# Read the Excel file into a pandas DataFrame\n",
    "df = pd.read_excel(url, skiprows=7)  # Skip the initial 5 rows of metadata\n",
    "\n",
    "\n"
   ]
  },
  {
   "cell_type": "markdown",
   "metadata": {},
   "source": [
    "Print the first first few rows "
   ]
  },
  {
   "cell_type": "code",
   "execution_count": 3,
   "metadata": {},
   "outputs": [
    {
     "name": "stdout",
     "output_type": "stream",
     "text": [
      "   Year   Jan   Feb   Mar   Apr   May   Jun   Jul   Aug   Sep    Oct      Nov  \\\n",
      "0  1992  6860  6059  6297  6022  5803  5761  5834  5830  6334   7275   7725.0   \n",
      "1  1993  6723  6620  7481  6606  6497  5904  5813  6201  7099   7786   9151.0   \n",
      "2  1994  7845  7481  8379  7399  7171  7010  6507  7480  7770   8752   9729.0   \n",
      "3  1995  8346  7991  8768  7564  7876  7411  6841  7922  8240   9412  10979.0   \n",
      "4  1996  9546  9417  9777  9182  8881  8118  8210  8470  9228  11008  12024.0   \n",
      "\n",
      "       Dec  \n",
      "0   8701.0  \n",
      "1   9930.0  \n",
      "2  10757.0  \n",
      "3  12166.0  \n",
      "4  13900.0  \n"
     ]
    }
   ],
   "source": [
    "# Display the first few rows of the DataFrame\n",
    "print(df.head())\n",
    "\n"
   ]
  },
  {
   "cell_type": "markdown",
   "metadata": {},
   "source": [
    "Let us check the dimension of the dataframe "
   ]
  },
  {
   "cell_type": "code",
   "execution_count": 4,
   "metadata": {},
   "outputs": [
    {
     "name": "stdout",
     "output_type": "stream",
     "text": [
      "(32, 13)\n"
     ]
    }
   ],
   "source": [
    "# Check the dimensions of the DataFrame\n",
    "dimensions = df.shape\n",
    "print(dimensions)"
   ]
  },
  {
   "cell_type": "markdown",
   "metadata": {},
   "source": [
    "The dataset has 32 rows and 13 columns \n"
   ]
  },
  {
   "cell_type": "markdown",
   "metadata": {},
   "source": [
    "Check for Summarry Statistics\n"
   ]
  },
  {
   "cell_type": "code",
   "execution_count": 5,
   "metadata": {},
   "outputs": [
    {
     "name": "stdout",
     "output_type": "stream",
     "text": [
      "              Year            Jan           Feb            Mar            Apr  \\\n",
      "count    32.000000      32.000000     32.000000      32.000000      32.000000   \n",
      "mean   2007.500000   32159.156250  30331.875000   33618.406250   32159.843750   \n",
      "std       9.380832   25877.313284  24388.370398   27890.401099   27750.460843   \n",
      "min    1992.000000    6723.000000   6059.000000    6297.000000    6022.000000   \n",
      "25%    1999.750000   13205.250000  13413.500000   14707.500000   12778.500000   \n",
      "50%    2007.500000   25654.000000  24071.000000   25542.000000   23643.500000   \n",
      "75%    2015.250000   39362.000000  38242.000000   41806.250000   39772.500000   \n",
      "max    2023.000000  106106.000000  99867.000000  111671.000000  106747.000000   \n",
      "\n",
      "                 May            Jun            Jul            Aug  \\\n",
      "count      32.000000      32.000000      32.000000      32.000000   \n",
      "mean    33018.781250   32093.406250   32051.468750   33360.031250   \n",
      "std     29257.313718   28285.925426   28645.314512   29309.531958   \n",
      "min      5803.000000    5761.000000    5813.000000    5830.000000   \n",
      "25%     13233.750000   12933.000000   12277.750000   13790.000000   \n",
      "50%     23738.500000   23715.500000   23759.500000   24455.500000   \n",
      "75%     39291.000000   39664.500000   39673.000000   39843.750000   \n",
      "max    115401.000000  109729.000000  111955.000000  114510.000000   \n",
      "\n",
      "                 Sep            Oct            Nov            Dec  \n",
      "count      32.000000      32.000000      31.000000      31.000000  \n",
      "mean    32566.437500   35215.968750   36914.161290   43628.387097  \n",
      "std     27595.730457   29684.582913   30637.996822   33944.049406  \n",
      "min      6334.000000    7275.000000    7725.000000    8701.000000  \n",
      "25%     13033.250000   15188.250000   15692.500000   17964.500000  \n",
      "50%     24157.500000   26423.000000   26329.000000   33990.000000  \n",
      "75%     40295.750000   41721.250000   44514.500000   58906.500000  \n",
      "max    107891.000000  118113.000000  122725.000000  133107.000000  \n"
     ]
    }
   ],
   "source": [
    "summary_stats = df.describe()\n",
    "print(summary_stats)\n"
   ]
  },
  {
   "cell_type": "markdown",
   "metadata": {},
   "source": [
    "Let us check for any missing data in our dataset\n"
   ]
  },
  {
   "cell_type": "code",
   "execution_count": 6,
   "metadata": {},
   "outputs": [
    {
     "name": "stdout",
     "output_type": "stream",
     "text": [
      "Year    0\n",
      "Jan     0\n",
      "Feb     0\n",
      "Mar     0\n",
      "Apr     0\n",
      "May     0\n",
      "Jun     0\n",
      "Jul     0\n",
      "Aug     0\n",
      "Sep     0\n",
      "Oct     0\n",
      "Nov     1\n",
      "Dec     1\n",
      "dtype: int64\n"
     ]
    }
   ],
   "source": [
    "# Check for missing values in the DataFrame\n",
    "missing_values = df.isnull().sum()\n",
    "print(missing_values)\n"
   ]
  },
  {
   "cell_type": "markdown",
   "metadata": {},
   "source": [
    "There are two missing values in the dataset ,November and December have one each"
   ]
  },
  {
   "cell_type": "markdown",
   "metadata": {},
   "source": [
    "Fill the missing values "
   ]
  },
  {
   "cell_type": "code",
   "execution_count": 7,
   "metadata": {},
   "outputs": [
    {
     "name": "stdout",
     "output_type": "stream",
     "text": [
      "Year    0\n",
      "Jan     0\n",
      "Feb     0\n",
      "Mar     0\n",
      "Apr     0\n",
      "May     0\n",
      "Jun     0\n",
      "Jul     0\n",
      "Aug     0\n",
      "Sep     0\n",
      "Oct     0\n",
      "Nov     0\n",
      "Dec     0\n",
      "dtype: int64\n"
     ]
    }
   ],
   "source": [
    "# Fill missing values by forward-filling the missing values\n",
    "df.fillna(method='ffill', inplace=True)\n",
    "print(df.isnull().sum())"
   ]
  },
  {
   "cell_type": "markdown",
   "metadata": {},
   "source": [
    " Lets generate a monthly frequency using the first day of each month."
   ]
  },
  {
   "cell_type": "code",
   "execution_count": 8,
   "metadata": {},
   "outputs": [
    {
     "name": "stdout",
     "output_type": "stream",
     "text": [
      "             Sales\n",
      "Date              \n",
      "1992-01-01  6860.0\n",
      "1992-02-01  6059.0\n",
      "1992-03-01  6297.0\n",
      "1992-04-01  6022.0\n",
      "1992-05-01  5803.0\n"
     ]
    }
   ],
   "source": [
    "import pandas as pd\n",
    "\n",
    "# Assuming your DataFrame is named 'df' and has columns like 'Year', 'Jan', 'Feb', ..., 'Dec'\n",
    "\n",
    "# Create a list of month names for reference\n",
    "months = [\n",
    "    'Jan', 'Feb', 'Mar', 'Apr', 'May', 'Jun',\n",
    "    'Jul', 'Aug', 'Sep', 'Oct', 'Nov', 'Dec'\n",
    "]\n",
    "\n",
    "# Initialize an empty list to hold the data\n",
    "monthly_sales = []\n",
    "\n",
    "# Iterate through each row in the DataFrame\n",
    "for index, row in df.iterrows():\n",
    "    year = str(int(row['Year']))  # Convert year to integer, then to string\n",
    "    # Iterate through each month to retrieve the sales data\n",
    "    for month in months:\n",
    "        # Create a datetime object for the first day of each month\n",
    "        date = pd.to_datetime(f\"{year}-{month}-01\")\n",
    "        # Retrieve sales data for the corresponding month and year\n",
    "        sales = row[month]\n",
    "        # Append the date and sales data to the list\n",
    "        monthly_sales.append({'Date': date, 'Sales': sales})\n",
    "\n",
    "# Create a new DataFrame from the list of dictionaries\n",
    "monthly_sales_df = pd.DataFrame(monthly_sales)\n",
    "\n",
    "# Set the 'Date' column as the index\n",
    "monthly_sales_df.set_index('Date', inplace=True)\n",
    "\n",
    "# Displaying the first few rows as requested\n",
    "print(monthly_sales_df.head())\n"
   ]
  },
  {
   "cell_type": "markdown",
   "metadata": {},
   "source": [
    "Now we create a graph of the monthly data to answer the questions asked\n"
   ]
  },
  {
   "cell_type": "code",
   "execution_count": 9,
   "metadata": {},
   "outputs": [
    {
     "data": {
      "image/png": "[encoded data removed]",
      "text/plain": [
       "<Figure size 720x432 with 1 Axes>"
      ]
     },
     "metadata": {
      "needs_background": "light"
     },
     "output_type": "display_data"
    }
   ],
   "source": [
    "import matplotlib.pyplot as plt\n",
    "\n",
    "#'monthly_sales_df' is our DataFrame with 'Date' as index and 'Sales' as a column\n",
    "\n",
    "# Plotting the sales data\n",
    "plt.figure(figsize=(10, 6))\n",
    "plt.plot(monthly_sales_df.index, monthly_sales_df['Sales'], label='Sales')\n",
    "plt.title('Monthly Sales for Nonstore Retailers')\n",
    "plt.xlabel('Date')\n",
    "plt.ylabel('Sales')\n",
    "plt.legend()\n",
    "plt.grid(True)\n",
    "plt.show()\n"
   ]
  },
  {
   "cell_type": "markdown",
   "metadata": {},
   "source": [
    "From the graph there is a rapid and continuous increase in sales over time, accompanied by recurring seasonal spikes. This pattern suggests sustained exponential growth.\n",
    "\n",
    "And so Option number 5 is correct Exponential Growth with Seasonal Fluctuations: The data illustrates a rapid increase in sales volume over time, compounded by recurring seasonal spikes, suggesting heightened sales activity during specific times of the year."
   ]
  },
  {
   "cell_type": "markdown",
   "metadata": {},
   "source": [
    "*QUESTION 8*\n"
   ]
  },
  {
   "cell_type": "markdown",
   "metadata": {},
   "source": [
    "Lets get the logged data for our monthly sales data"
   ]
  },
  {
   "cell_type": "code",
   "execution_count": 10,
   "metadata": {},
   "outputs": [
    {
     "name": "stdout",
     "output_type": "stream",
     "text": [
      "Date\n",
      "1992-01-01    8.833463\n",
      "1992-02-01    8.709300\n",
      "1992-03-01    8.747829\n",
      "1992-04-01    8.703175\n",
      "1992-05-01    8.666130\n",
      "Name: Sales, dtype: float64\n"
     ]
    }
   ],
   "source": [
    "import numpy as np\n",
    "\n",
    "#  'monthly_sales_df' is our DataFrame with 'Sals data\n",
    "\n",
    "# Create a logged version of the sales data\n",
    "logged_sales_data = np.log(monthly_sales_df['Sales'])\n",
    "\n",
    "# Display the first few rows of the logged sales data\n",
    "print(logged_sales_data.head())\n",
    "\n",
    "# Now, use the logged sales data with auto_arima to find the optimal ARIMA model\n",
    "# Insert the code for auto_arima here (as shown in the previous example)\n"
   ]
  },
  {
   "cell_type": "markdown",
   "metadata": {},
   "source": [
    "To determine the optimal ARIMA model for monthly sales data using the pmdarima library and the specified parameter constraints, we can use the auto_arima function. This function will help in automatically selecting the best ARIMA model based on the provided constraints and criteria."
   ]
  },
  {
   "cell_type": "markdown",
   "metadata": {},
   "source": [
    "Installing required pmdarima library"
   ]
  },
  {
   "cell_type": "code",
   "execution_count": 11,
   "metadata": {},
   "outputs": [
    {
     "name": "stdout",
     "output_type": "stream",
     "text": [
      "Requirement already satisfied: pmdarima in c:\\users\\hp\\anaconda3\\lib\\site-packages (2.0.4)\n",
      "Requirement already satisfied: urllib3 in c:\\users\\hp\\anaconda3\\lib\\site-packages (from pmdarima) (1.26.9)\n",
      "Requirement already satisfied: statsmodels>=0.13.2 in c:\\users\\hp\\anaconda3\\lib\\site-packages (from pmdarima) (0.13.2)\n",
      "Requirement already satisfied: scikit-learn>=0.22 in c:\\users\\hp\\anaconda3\\lib\\site-packages (from pmdarima) (1.1.3)\n",
      "Requirement already satisfied: numpy>=1.21.2 in c:\\users\\hp\\anaconda3\\lib\\site-packages (from pmdarima) (1.21.5)\n",
      "Requirement already satisfied: Cython!=0.29.18,!=0.29.31,>=0.29 in c:\\users\\hp\\anaconda3\\lib\\site-packages (from pmdarima) (0.29.28)\n",
      "Requirement already satisfied: packaging>=17.1 in c:\\users\\hp\\anaconda3\\lib\\site-packages (from pmdarima) (21.3)\n",
      "Requirement already satisfied: pandas>=0.19 in c:\\users\\hp\\anaconda3\\lib\\site-packages (from pmdarima) (1.4.2)\n",
      "Requirement already satisfied: joblib>=0.11 in c:\\users\\hp\\anaconda3\\lib\\site-packages (from pmdarima) (1.3.2)\n",
      "Requirement already satisfied: scipy>=1.3.2 in c:\\users\\hp\\anaconda3\\lib\\site-packages (from pmdarima) (1.10.1)\n",
      "Requirement already satisfied: setuptools!=50.0.0,>=38.6.0 in c:\\users\\hp\\anaconda3\\lib\\site-packages (from pmdarima) (61.2.0)\n",
      "Requirement already satisfied: pyparsing!=3.0.5,>=2.0.2 in c:\\users\\hp\\anaconda3\\lib\\site-packages (from packaging>=17.1->pmdarima) (3.0.4)\n",
      "Requirement already satisfied: python-dateutil>=2.8.1 in c:\\users\\hp\\anaconda3\\lib\\site-packages (from pandas>=0.19->pmdarima) (2.8.2)\n",
      "Requirement already satisfied: pytz>=2020.1 in c:\\users\\hp\\anaconda3\\lib\\site-packages (from pandas>=0.19->pmdarima) (2021.3)\n",
      "Requirement already satisfied: six>=1.5 in c:\\users\\hp\\anaconda3\\lib\\site-packages (from python-dateutil>=2.8.1->pandas>=0.19->pmdarima) (1.16.0)\n",
      "Requirement already satisfied: threadpoolctl>=2.0.0 in c:\\users\\hp\\anaconda3\\lib\\site-packages (from scikit-learn>=0.22->pmdarima) (2.2.0)\n",
      "Requirement already satisfied: patsy>=0.5.2 in c:\\users\\hp\\anaconda3\\lib\\site-packages (from statsmodels>=0.13.2->pmdarima) (0.5.2)\n"
     ]
    },
    {
     "name": "stderr",
     "output_type": "stream",
     "text": [
      "WARNING: Ignoring invalid distribution -illow (c:\\users\\hp\\anaconda3\\lib\\site-packages)\n",
      "WARNING: Ignoring invalid distribution -illow (c:\\users\\hp\\anaconda3\\lib\\site-packages)\n",
      "WARNING: Ignoring invalid distribution -illow (c:\\users\\hp\\anaconda3\\lib\\site-packages)\n",
      "WARNING: Ignoring invalid distribution -illow (c:\\users\\hp\\anaconda3\\lib\\site-packages)\n",
      "WARNING: Ignoring invalid distribution -illow (c:\\users\\hp\\anaconda3\\lib\\site-packages)\n",
      "WARNING: Ignoring invalid distribution -illow (c:\\users\\hp\\anaconda3\\lib\\site-packages)\n"
     ]
    }
   ],
   "source": [
    "!pip install pmdarima\n"
   ]
  },
  {
   "cell_type": "markdown",
   "metadata": {},
   "source": [
    "With the logged sales data ready, we can proceed to find the optimal ARIMA model using the auto_arima function from the pmdarima library"
   ]
  },
  {
   "cell_type": "code",
   "execution_count": 12,
   "metadata": {},
   "outputs": [
    {
     "name": "stdout",
     "output_type": "stream",
     "text": [
      "                               SARIMAX Results                                \n",
      "==============================================================================\n",
      "Dep. Variable:                      y   No. Observations:                  384\n",
      "Model:               SARIMAX(4, 2, 0)   Log Likelihood                 239.781\n",
      "Date:                Mon, 11 Dec 2023   AIC                           -469.562\n",
      "Time:                        15:48:27   BIC                           -449.835\n",
      "Sample:                    01-01-1992   HQIC                          -461.736\n",
      "                         - 12-01-2023                                         \n",
      "Covariance Type:                  opg                                         \n",
      "==============================================================================\n",
      "                 coef    std err          z      P>|z|      [0.025      0.975]\n",
      "------------------------------------------------------------------------------\n",
      "ar.L1         -0.8609      0.060    -14.291      0.000      -0.979      -0.743\n",
      "ar.L2         -0.8346      0.091     -9.212      0.000      -1.012      -0.657\n",
      "ar.L3         -0.4527      0.099     -4.577      0.000      -0.647      -0.259\n",
      "ar.L4         -0.2875      0.081     -3.542      0.000      -0.447      -0.128\n",
      "sigma2         0.0166      0.001     13.460      0.000       0.014       0.019\n",
      "===================================================================================\n",
      "Ljung-Box (L1) (Q):                   0.50   Jarque-Bera (JB):               215.20\n",
      "Prob(Q):                              0.48   Prob(JB):                         0.00\n",
      "Heteroskedasticity (H):               1.19   Skew:                            -1.35\n",
      "Prob(H) (two-sided):                  0.33   Kurtosis:                         5.49\n",
      "===================================================================================\n",
      "\n",
      "Warnings:\n",
      "[1] Covariance matrix calculated using the outer product of gradients (complex-step).\n"
     ]
    }
   ],
   "source": [
    "from pmdarima import auto_arima\n",
    "\n",
    "\n",
    "# Define the parameter constraints and use auto_arima to find the optimal ARIMA model\n",
    "champion_model = auto_arima(logged_sales_data,\n",
    "                            start_p=0, max_p=4,\n",
    "                            start_q=0, max_q=4,\n",
    "                            d=2, max_d=2,  # Change range(0, 3) to an integer (0, 1, or 2)\n",
    "                            start_P=0, max_P=2,\n",
    "                            start_Q=0, max_Q=2,\n",
    "                            D=2, max_D=2,  # Change range(0, 3) to an integer (0, 1, or 2)\n",
    "                            max_order=14,\n",
    "                            seasonal=True,\n",
    "                            suppress_warnings=True,\n",
    "                            stepwise=True)\n",
    "\n",
    "# Get the summary of the optimal model\n",
    "print(champion_model.summary())\n"
   ]
  },
  {
   "cell_type": "markdown",
   "metadata": {},
   "source": [
    "Optimal ARIMA model for the logged data is ARIMA(4,2,0)"
   ]
  },
  {
   "cell_type": "code",
   "execution_count": 14,
   "metadata": {},
   "outputs": [
    {
     "name": "stdout",
     "output_type": "stream",
     "text": [
      "Lower 95% interval bound: 107981.56\n",
      "Predicted value for December 2023: 139030.11\n",
      "Upper 95% interval bound: 179006.23\n"
     ]
    }
   ],
   "source": [
    "# Make predictions for December 2023 ( last point in our dataset is October 2023)\n",
    "n_periods = 2  # Number of periods to forecast (December 2023)\n",
    "\n",
    "# Use the SARIMAX model to forecast the next n_periods\n",
    "forecast, conf_int = champion_model.predict(n_periods=n_periods, return_conf_int=True)\n",
    "\n",
    "# Extract the predicted value and confidence intervals for December 2023\n",
    "pred_value = forecast[0]  # Predicted value for December 2023\n",
    "lower_bound = conf_int[0, 0]  # Lower 95% interval bound for December 2023\n",
    "upper_bound = conf_int[0, 1]  # Upper 95% interval bound for December 2023\n",
    "\n",
    "# Undo the logarithm transformation\n",
    "pred_value = np.exp(pred_value)\n",
    "lower_bound = np.exp(lower_bound)\n",
    "upper_bound = np.exp(upper_bound)\n",
    "\n",
    "# Round the values to the second decimal place\n",
    "pred_value = round(pred_value, 2)\n",
    "lower_bound = round(lower_bound, 2)\n",
    "upper_bound = round(upper_bound, 2)\n",
    "\n",
    "print(f\"Lower 95% interval bound: {lower_bound}\")\n",
    "print(f\"Predicted value for December 2023: {pred_value}\")\n",
    "print(f\"Upper 95% interval bound: {upper_bound}\")\n"
   ]
  },
  {
   "cell_type": "markdown",
   "metadata": {},
   "source": [
    "These values represent the forecasted sales for December 2023, with a 95% confidence interval suggesting that the actual value is expected to fall within this range.\n",
    "Lower 95% interval bound: 107981.59\n",
    "Predicted value for December 2023: 139030.07\n",
    "Upper 95% interval bound: 179006.06"
   ]
  },
  {
   "cell_type": "markdown",
   "metadata": {},
   "source": [
    "*Question 9*\n"
   ]
  },
  {
   "cell_type": "markdown",
   "metadata": {},
   "source": [
    "Can we conclude that the optimal model identified by the auto_arima function is adequate?\n",
    "\n",
    "\n",
    "\"Yes, because the ACF shows no significant autocorrelations, indicating that the residuals are white noise, i.e., the residuals form a stationary, uncorrelated sequence\" aligns with the assessment of model adequacy."
   ]
  },
  {
   "cell_type": "markdown",
   "metadata": {},
   "source": [
    "*QUESTION 10*\n"
   ]
  },
  {
   "cell_type": "markdown",
   "metadata": {},
   "source": [
    "This task involves using the PyCaret library for time series forecasting and evaluating the champion model based on certain criteria"
   ]
  },
  {
   "cell_type": "markdown",
   "metadata": {},
   "source": [
    "Step 1: Setup PyCaret Environment"
   ]
  },
  {
   "cell_type": "code",
   "execution_count": null,
   "metadata": {},
   "outputs": [
    {
     "name": "stdout",
     "output_type": "stream",
     "text": [
      "Requirement already satisfied: pycaret in c:\\users\\hp\\anaconda3\\lib\\site-packages (3.2.0)Note: you may need to restart the kernel to use updated packages.\n",
      "Requirement already satisfied: plotly-resampler>=0.8.3.1 in c:\\users\\hp\\anaconda3\\lib\\site-packages (from pycaret) (0.9.1)\n",
      "\n",
      "Requirement already satisfied: scikit-plot>=0.3.7 in c:\\users\\hp\\anaconda3\\lib\\site-packages (from pycaret) (0.3.7)\n",
      "Requirement already satisfied: xxhash in c:\\users\\hp\\anaconda3\\lib\\site-packages (from pycaret) (3.4.1)\n",
      "Requirement already satisfied: importlib-metadata>=4.12.0 in c:\\users\\hp\\anaconda3\\lib\\site-packages (from pycaret) (7.0.0)\n",
      "Requirement already satisfied: plotly>=5.0.0 in c:\\users\\hp\\anaconda3\\lib\\site-packages (from pycaret) (5.6.0)\n",
      "Requirement already satisfied: deprecation>=2.1.0 in c:\\users\\hp\\anaconda3\\lib\\site-packages (from pycaret) (2.1.0)"
     ]
    },
    {
     "name": "stderr",
     "output_type": "stream",
     "text": [
      "WARNING: Ignoring invalid distribution -illow (c:\\users\\hp\\anaconda3\\lib\\site-packages)\n",
      "WARNING: Ignoring invalid distribution -illow (c:\\users\\hp\\anaconda3\\lib\\site-packages)\n",
      "WARNING: Ignoring invalid distribution -illow (c:\\users\\hp\\anaconda3\\lib\\site-packages)\n",
      "WARNING: Ignoring invalid distribution -illow (c:\\users\\hp\\anaconda3\\lib\\site-packages)\n",
      "WARNING: Ignoring invalid distribution -illow (c:\\users\\hp\\anaconda3\\lib\\site-packages)\n",
      "WARNING: Ignoring invalid distribution -illow (c:\\users\\hp\\anaconda3\\lib\\site-packages)\n"
     ]
    },
    {
     "name": "stdout",
     "output_type": "stream",
     "text": [
      "\n",
      "Requirement already satisfied: jinja2>=1.2 in c:\\users\\hp\\anaconda3\\lib\\site-packages (from pycaret) (2.11.3)\n",
      "Requirement already satisfied: pyod>=1.0.8 in c:\\users\\hp\\anaconda3\\lib\\site-packages (from pycaret) (1.1.2)\n",
      "Requirement already satisfied: ipython>=5.5.0 in c:\\users\\hp\\anaconda3\\lib\\site-packages (from pycaret) (8.2.0)\n",
      "Requirement already satisfied: requests>=2.27.1 in c:\\users\\hp\\anaconda3\\lib\\site-packages (from pycaret) (2.27.1)\n",
      "Requirement already satisfied: scikit-learn<1.3.0,>=1.0 in c:\\users\\hp\\anaconda3\\lib\\site-packages (from pycaret) (1.1.3)\n",
      "Requirement already satisfied: cloudpickle in c:\\users\\hp\\anaconda3\\lib\\site-packages (from pycaret) (2.0.0)\n",
      "Requirement already satisfied: kaleido>=0.2.1 in c:\\users\\hp\\anaconda3\\lib\\site-packages (from pycaret) (0.2.1)\n",
      "Requirement already satisfied: category-encoders>=2.4.0 in c:\\users\\hp\\anaconda3\\lib\\site-packages (from pycaret) (2.6.3)\n",
      "Requirement already satisfied: pandas<2.0.0,>=1.3.0 in c:\\users\\hp\\anaconda3\\lib\\site-packages (from pycaret) (1.4.2)\n",
      "Requirement already satisfied: nbformat>=4.2.0 in c:\\users\\hp\\anaconda3\\lib\\site-packages (from pycaret) (5.3.0)\n",
      "Requirement already satisfied: matplotlib<=3.6,>=3.3.0 in c:\\users\\hp\\anaconda3\\lib\\site-packages (from pycaret) (3.5.1)\n",
      "Requirement already satisfied: pmdarima!=1.8.1,<3.0.0,>=1.8.0 in c:\\users\\hp\\anaconda3\\lib\\site-packages (from pycaret) (2.0.4)\n",
      "Requirement already satisfied: imbalanced-learn>=0.8.1 in c:\\users\\hp\\anaconda3\\lib\\site-packages (from pycaret) (0.11.0)\n",
      "Requirement already satisfied: joblib>=1.2.0 in c:\\users\\hp\\anaconda3\\lib\\site-packages (from pycaret) (1.3.2)\n",
      "Requirement already satisfied: markupsafe>=2.0.1 in c:\\users\\hp\\anaconda3\\lib\\site-packages (from pycaret) (2.0.1)\n",
      "Requirement already satisfied: psutil>=5.9.0 in c:\\users\\hp\\anaconda3\\lib\\site-packages (from pycaret) (5.9.6)\n",
      "Requirement already satisfied: scipy~=1.10.1 in c:\\users\\hp\\anaconda3\\lib\\site-packages (from pycaret) (1.10.1)\n",
      "Requirement already satisfied: numpy<1.27,>=1.21 in c:\\users\\hp\\anaconda3\\lib\\site-packages (from pycaret) (1.21.5)\n",
      "Requirement already satisfied: tbats>=1.1.3 in c:\\users\\hp\\anaconda3\\lib\\site-packages (from pycaret) (1.1.3)\n",
      "Requirement already satisfied: sktime!=0.17.1,!=0.17.2,!=0.18.0,<0.22.0,>=0.16.1 in c:\\users\\hp\\anaconda3\\lib\\site-packages (from pycaret) (0.21.1)\n",
      "Requirement already satisfied: statsmodels>=0.12.1 in c:\\users\\hp\\anaconda3\\lib\\site-packages (from pycaret) (0.13.2)\n",
      "Requirement already satisfied: yellowbrick>=1.4 in c:\\users\\hp\\anaconda3\\lib\\site-packages (from pycaret) (1.5)\n",
      "Requirement already satisfied: numba>=0.55.0 in c:\\users\\hp\\anaconda3\\lib\\site-packages (from pycaret) (0.55.1)\n",
      "Requirement already satisfied: tqdm>=4.62.0 in c:\\users\\hp\\anaconda3\\lib\\site-packages (from pycaret) (4.64.0)\n",
      "Requirement already satisfied: lightgbm>=3.0.0 in c:\\users\\hp\\anaconda3\\lib\\site-packages (from pycaret) (4.1.0)\n",
      "Requirement already satisfied: ipywidgets>=7.6.5 in c:\\users\\hp\\anaconda3\\lib\\site-packages (from pycaret) (7.6.5)\n",
      "Requirement already satisfied: schemdraw==0.15 in c:\\users\\hp\\anaconda3\\lib\\site-packages (from pycaret) (0.15)\n",
      "Requirement already satisfied: patsy>=0.5.1 in c:\\users\\hp\\anaconda3\\lib\\site-packages (from category-encoders>=2.4.0->pycaret) (0.5.2)\n",
      "Requirement already satisfied: packaging in c:\\users\\hp\\anaconda3\\lib\\site-packages (from deprecation>=2.1.0->pycaret) (21.3)\n",
      "Requirement already satisfied: threadpoolctl>=2.0.0 in c:\\users\\hp\\anaconda3\\lib\\site-packages (from imbalanced-learn>=0.8.1->pycaret) (2.2.0)\n",
      "Requirement already satisfied: zipp>=0.5 in c:\\users\\hp\\anaconda3\\lib\\site-packages (from importlib-metadata>=4.12.0->pycaret) (3.7.0)\n",
      "Requirement already satisfied: prompt-toolkit!=3.0.0,!=3.0.1,<3.1.0,>=2.0.0 in c:\\users\\hp\\anaconda3\\lib\\site-packages (from ipython>=5.5.0->pycaret) (3.0.20)\n",
      "Requirement already satisfied: pygments>=2.4.0 in c:\\users\\hp\\anaconda3\\lib\\site-packages (from ipython>=5.5.0->pycaret) (2.11.2)\n",
      "Requirement already satisfied: backcall in c:\\users\\hp\\anaconda3\\lib\\site-packages (from ipython>=5.5.0->pycaret) (0.2.0)\n",
      "Requirement already satisfied: setuptools>=18.5 in c:\\users\\hp\\anaconda3\\lib\\site-packages (from ipython>=5.5.0->pycaret) (61.2.0)\n",
      "Requirement already satisfied: traitlets>=5 in c:\\users\\hp\\anaconda3\\lib\\site-packages (from ipython>=5.5.0->pycaret) (5.1.1)\n",
      "Requirement already satisfied: matplotlib-inline in c:\\users\\hp\\anaconda3\\lib\\site-packages (from ipython>=5.5.0->pycaret) (0.1.2)\n",
      "Requirement already satisfied: pickleshare in c:\\users\\hp\\anaconda3\\lib\\site-packages (from ipython>=5.5.0->pycaret) (0.7.5)\n",
      "Requirement already satisfied: colorama in c:\\users\\hp\\anaconda3\\lib\\site-packages (from ipython>=5.5.0->pycaret) (0.4.4)\n",
      "Requirement already satisfied: stack-data in c:\\users\\hp\\anaconda3\\lib\\site-packages (from ipython>=5.5.0->pycaret) (0.2.0)\n",
      "Requirement already satisfied: decorator in c:\\users\\hp\\anaconda3\\lib\\site-packages (from ipython>=5.5.0->pycaret) (5.1.1)\n",
      "Requirement already satisfied: jedi>=0.16 in c:\\users\\hp\\anaconda3\\lib\\site-packages (from ipython>=5.5.0->pycaret) (0.18.1)\n",
      "Requirement already satisfied: ipykernel>=4.5.1 in c:\\users\\hp\\anaconda3\\lib\\site-packages (from ipywidgets>=7.6.5->pycaret) (6.9.1)\n",
      "Requirement already satisfied: ipython-genutils~=0.2.0 in c:\\users\\hp\\anaconda3\\lib\\site-packages (from ipywidgets>=7.6.5->pycaret) (0.2.0)\n",
      "Requirement already satisfied: jupyterlab-widgets>=1.0.0 in c:\\users\\hp\\anaconda3\\lib\\site-packages (from ipywidgets>=7.6.5->pycaret) (1.0.0)\n",
      "Requirement already satisfied: widgetsnbextension~=3.5.0 in c:\\users\\hp\\anaconda3\\lib\\site-packages (from ipywidgets>=7.6.5->pycaret) (3.5.2)\n",
      "Requirement already satisfied: jupyter-client<8.0 in c:\\users\\hp\\anaconda3\\lib\\site-packages (from ipykernel>=4.5.1->ipywidgets>=7.6.5->pycaret) (6.1.12)\n",
      "Requirement already satisfied: nest-asyncio in c:\\users\\hp\\anaconda3\\lib\\site-packages (from ipykernel>=4.5.1->ipywidgets>=7.6.5->pycaret) (1.5.5)\n",
      "Requirement already satisfied: debugpy<2.0,>=1.0.0 in c:\\users\\hp\\anaconda3\\lib\\site-packages (from ipykernel>=4.5.1->ipywidgets>=7.6.5->pycaret) (1.5.1)\n",
      "Requirement already satisfied: tornado<7.0,>=4.2 in c:\\users\\hp\\anaconda3\\lib\\site-packages (from ipykernel>=4.5.1->ipywidgets>=7.6.5->pycaret) (6.1)\n",
      "Requirement already satisfied: parso<0.9.0,>=0.8.0 in c:\\users\\hp\\anaconda3\\lib\\site-packages (from jedi>=0.16->ipython>=5.5.0->pycaret) (0.8.3)\n",
      "Requirement already satisfied: jupyter-core>=4.6.0 in c:\\users\\hp\\anaconda3\\lib\\site-packages (from jupyter-client<8.0->ipykernel>=4.5.1->ipywidgets>=7.6.5->pycaret) (4.9.2)\n",
      "Requirement already satisfied: pyzmq>=13 in c:\\users\\hp\\anaconda3\\lib\\site-packages (from jupyter-client<8.0->ipykernel>=4.5.1->ipywidgets>=7.6.5->pycaret) (22.3.0)\n",
      "Requirement already satisfied: python-dateutil>=2.1 in c:\\users\\hp\\anaconda3\\lib\\site-packages (from jupyter-client<8.0->ipykernel>=4.5.1->ipywidgets>=7.6.5->pycaret) (2.8.2)\n",
      "Requirement already satisfied: pywin32>=1.0 in c:\\users\\hp\\anaconda3\\lib\\site-packages (from jupyter-core>=4.6.0->jupyter-client<8.0->ipykernel>=4.5.1->ipywidgets>=7.6.5->pycaret) (302)\n",
      "Requirement already satisfied: fonttools>=4.22.0 in c:\\users\\hp\\anaconda3\\lib\\site-packages (from matplotlib<=3.6,>=3.3.0->pycaret) (4.25.0)\n",
      "Requirement already satisfied: pillow>=6.2.0 in c:\\users\\hp\\anaconda3\\lib\\site-packages (from matplotlib<=3.6,>=3.3.0->pycaret) (10.1.0)\n",
      "Requirement already satisfied: pyparsing>=2.2.1 in c:\\users\\hp\\anaconda3\\lib\\site-packages (from matplotlib<=3.6,>=3.3.0->pycaret) (3.0.4)\n",
      "Requirement already satisfied: kiwisolver>=1.0.1 in c:\\users\\hp\\anaconda3\\lib\\site-packages (from matplotlib<=3.6,>=3.3.0->pycaret) (1.3.2)\n",
      "Requirement already satisfied: cycler>=0.10 in c:\\users\\hp\\anaconda3\\lib\\site-packages (from matplotlib<=3.6,>=3.3.0->pycaret) (0.11.0)\n",
      "Requirement already satisfied: jsonschema>=2.6 in c:\\users\\hp\\anaconda3\\lib\\site-packages (from nbformat>=4.2.0->pycaret) (4.4.0)\n",
      "Requirement already satisfied: fastjsonschema in c:\\users\\hp\\anaconda3\\lib\\site-packages (from nbformat>=4.2.0->pycaret) (2.15.1)\n",
      "Requirement already satisfied: pyrsistent!=0.17.0,!=0.17.1,!=0.17.2,>=0.14.0 in c:\\users\\hp\\anaconda3\\lib\\site-packages (from jsonschema>=2.6->nbformat>=4.2.0->pycaret) (0.18.0)\n",
      "Requirement already satisfied: attrs>=17.4.0 in c:\\users\\hp\\anaconda3\\lib\\site-packages (from jsonschema>=2.6->nbformat>=4.2.0->pycaret) (21.4.0)\n",
      "Requirement already satisfied: llvmlite<0.39,>=0.38.0rc1 in c:\\users\\hp\\anaconda3\\lib\\site-packages (from numba>=0.55.0->pycaret) (0.38.0)\n",
      "Requirement already satisfied: pytz>=2020.1 in c:\\users\\hp\\anaconda3\\lib\\site-packages (from pandas<2.0.0,>=1.3.0->pycaret) (2021.3)\n",
      "Requirement already satisfied: six in c:\\users\\hp\\anaconda3\\lib\\site-packages (from patsy>=0.5.1->category-encoders>=2.4.0->pycaret) (1.16.0)\n",
      "Requirement already satisfied: tenacity>=6.2.0 in c:\\users\\hp\\anaconda3\\lib\\site-packages (from plotly>=5.0.0->pycaret) (8.0.1)\n",
      "Requirement already satisfied: orjson<4.0.0,>=3.8.0 in c:\\users\\hp\\anaconda3\\lib\\site-packages (from plotly-resampler>=0.8.3.1->pycaret) (3.9.10)\n",
      "Requirement already satisfied: trace-updater>=0.0.8 in c:\\users\\hp\\anaconda3\\lib\\site-packages (from plotly-resampler>=0.8.3.1->pycaret) (0.0.9.1)\n",
      "Requirement already satisfied: dash<3.0.0,>=2.11.0 in c:\\users\\hp\\anaconda3\\lib\\site-packages (from plotly-resampler>=0.8.3.1->pycaret) (2.14.2)\n",
      "Requirement already satisfied: tsdownsample==0.1.2 in c:\\users\\hp\\anaconda3\\lib\\site-packages (from plotly-resampler>=0.8.3.1->pycaret) (0.1.2)\n",
      "Requirement already satisfied: Flask<3.1,>=1.0.4 in c:\\users\\hp\\anaconda3\\lib\\site-packages (from dash<3.0.0,>=2.11.0->plotly-resampler>=0.8.3.1->pycaret) (1.1.2)\n",
      "Requirement already satisfied: typing-extensions>=4.1.1 in c:\\users\\hp\\anaconda3\\lib\\site-packages (from dash<3.0.0,>=2.11.0->plotly-resampler>=0.8.3.1->pycaret) (4.1.1)\n",
      "Requirement already satisfied: dash-core-components==2.0.0 in c:\\users\\hp\\anaconda3\\lib\\site-packages (from dash<3.0.0,>=2.11.0->plotly-resampler>=0.8.3.1->pycaret) (2.0.0)\n",
      "Requirement already satisfied: dash-html-components==2.0.0 in c:\\users\\hp\\anaconda3\\lib\\site-packages (from dash<3.0.0,>=2.11.0->plotly-resampler>=0.8.3.1->pycaret) (2.0.0)\n",
      "Requirement already satisfied: Werkzeug<3.1 in c:\\users\\hp\\anaconda3\\lib\\site-packages (from dash<3.0.0,>=2.11.0->plotly-resampler>=0.8.3.1->pycaret) (2.0.3)\n",
      "Requirement already satisfied: retrying in c:\\users\\hp\\anaconda3\\lib\\site-packages (from dash<3.0.0,>=2.11.0->plotly-resampler>=0.8.3.1->pycaret) (1.3.4)\n",
      "Requirement already satisfied: dash-table==5.0.0 in c:\\users\\hp\\anaconda3\\lib\\site-packages (from dash<3.0.0,>=2.11.0->plotly-resampler>=0.8.3.1->pycaret) (5.0.0)\n",
      "Requirement already satisfied: ansi2html in c:\\users\\hp\\anaconda3\\lib\\site-packages (from dash<3.0.0,>=2.11.0->plotly-resampler>=0.8.3.1->pycaret) (1.8.0)\n",
      "Requirement already satisfied: click>=5.1 in c:\\users\\hp\\anaconda3\\lib\\site-packages (from Flask<3.1,>=1.0.4->dash<3.0.0,>=2.11.0->plotly-resampler>=0.8.3.1->pycaret) (8.0.4)\n",
      "Requirement already satisfied: itsdangerous>=0.24 in c:\\users\\hp\\anaconda3\\lib\\site-packages (from Flask<3.1,>=1.0.4->dash<3.0.0,>=2.11.0->plotly-resampler>=0.8.3.1->pycaret) (2.0.1)\n",
      "Requirement already satisfied: Cython!=0.29.18,!=0.29.31,>=0.29 in c:\\users\\hp\\anaconda3\\lib\\site-packages (from pmdarima!=1.8.1,<3.0.0,>=1.8.0->pycaret) (0.29.28)\n",
      "Requirement already satisfied: urllib3 in c:\\users\\hp\\anaconda3\\lib\\site-packages (from pmdarima!=1.8.1,<3.0.0,>=1.8.0->pycaret) (1.26.9)\n",
      "Requirement already satisfied: wcwidth in c:\\users\\hp\\anaconda3\\lib\\site-packages (from prompt-toolkit!=3.0.0,!=3.0.1,<3.1.0,>=2.0.0->ipython>=5.5.0->pycaret) (0.2.5)\n",
      "Requirement already satisfied: certifi>=2017.4.17 in c:\\users\\hp\\anaconda3\\lib\\site-packages (from requests>=2.27.1->pycaret) (2021.10.8)\n",
      "Requirement already satisfied: charset-normalizer~=2.0.0 in c:\\users\\hp\\anaconda3\\lib\\site-packages (from requests>=2.27.1->pycaret) (2.0.4)\n",
      "Requirement already satisfied: idna<4,>=2.5 in c:\\users\\hp\\anaconda3\\lib\\site-packages (from requests>=2.27.1->pycaret) (3.3)\n",
      "Requirement already satisfied: deprecated>=1.2.13 in c:\\users\\hp\\anaconda3\\lib\\site-packages (from sktime!=0.17.1,!=0.17.2,!=0.18.0,<0.22.0,>=0.16.1->pycaret) (1.2.14)\n",
      "Requirement already satisfied: scikit-base<0.6.0 in c:\\users\\hp\\anaconda3\\lib\\site-packages (from sktime!=0.17.1,!=0.17.2,!=0.18.0,<0.22.0,>=0.16.1->pycaret) (0.5.2)\n",
      "Requirement already satisfied: wrapt<2,>=1.10 in c:\\users\\hp\\anaconda3\\lib\\site-packages (from deprecated>=1.2.13->sktime!=0.17.1,!=0.17.2,!=0.18.0,<0.22.0,>=0.16.1->pycaret) (1.12.1)\n",
      "Requirement already satisfied: notebook>=4.4.1 in c:\\users\\hp\\anaconda3\\lib\\site-packages (from widgetsnbextension~=3.5.0->ipywidgets>=7.6.5->pycaret) (6.4.8)\n",
      "Requirement already satisfied: terminado>=0.8.3 in c:\\users\\hp\\anaconda3\\lib\\site-packages (from notebook>=4.4.1->widgetsnbextension~=3.5.0->ipywidgets>=7.6.5->pycaret) (0.13.1)\n",
      "Requirement already satisfied: nbconvert in c:\\users\\hp\\anaconda3\\lib\\site-packages (from notebook>=4.4.1->widgetsnbextension~=3.5.0->ipywidgets>=7.6.5->pycaret) (6.4.4)\n",
      "Requirement already satisfied: Send2Trash>=1.8.0 in c:\\users\\hp\\anaconda3\\lib\\site-packages (from notebook>=4.4.1->widgetsnbextension~=3.5.0->ipywidgets>=7.6.5->pycaret) (1.8.0)\n",
      "Requirement already satisfied: prometheus-client in c:\\users\\hp\\anaconda3\\lib\\site-packages (from notebook>=4.4.1->widgetsnbextension~=3.5.0->ipywidgets>=7.6.5->pycaret) (0.13.1)\n",
      "Requirement already satisfied: argon2-cffi in c:\\users\\hp\\anaconda3\\lib\\site-packages (from notebook>=4.4.1->widgetsnbextension~=3.5.0->ipywidgets>=7.6.5->pycaret) (21.3.0)\n",
      "Requirement already satisfied: pywinpty>=1.1.0 in c:\\users\\hp\\anaconda3\\lib\\site-packages (from terminado>=0.8.3->notebook>=4.4.1->widgetsnbextension~=3.5.0->ipywidgets>=7.6.5->pycaret) (2.0.2)\n",
      "Requirement already satisfied: argon2-cffi-bindings in c:\\users\\hp\\anaconda3\\lib\\site-packages (from argon2-cffi->notebook>=4.4.1->widgetsnbextension~=3.5.0->ipywidgets>=7.6.5->pycaret) (21.2.0)\n",
      "Requirement already satisfied: cffi>=1.0.1 in c:\\users\\hp\\anaconda3\\lib\\site-packages (from argon2-cffi-bindings->argon2-cffi->notebook>=4.4.1->widgetsnbextension~=3.5.0->ipywidgets>=7.6.5->pycaret) (1.15.0)\n",
      "Requirement already satisfied: pycparser in c:\\users\\hp\\anaconda3\\lib\\site-packages (from cffi>=1.0.1->argon2-cffi-bindings->argon2-cffi->notebook>=4.4.1->widgetsnbextension~=3.5.0->ipywidgets>=7.6.5->pycaret) (2.21)\n",
      "Requirement already satisfied: pandocfilters>=1.4.1 in c:\\users\\hp\\anaconda3\\lib\\site-packages (from nbconvert->notebook>=4.4.1->widgetsnbextension~=3.5.0->ipywidgets>=7.6.5->pycaret) (1.5.0)\n",
      "Requirement already satisfied: nbclient<0.6.0,>=0.5.0 in c:\\users\\hp\\anaconda3\\lib\\site-packages (from nbconvert->notebook>=4.4.1->widgetsnbextension~=3.5.0->ipywidgets>=7.6.5->pycaret) (0.5.13)\n",
      "Requirement already satisfied: defusedxml in c:\\users\\hp\\anaconda3\\lib\\site-packages (from nbconvert->notebook>=4.4.1->widgetsnbextension~=3.5.0->ipywidgets>=7.6.5->pycaret) (0.7.1)\n",
      "Requirement already satisfied: mistune<2,>=0.8.1 in c:\\users\\hp\\anaconda3\\lib\\site-packages (from nbconvert->notebook>=4.4.1->widgetsnbextension~=3.5.0->ipywidgets>=7.6.5->pycaret) (0.8.4)\n",
      "Requirement already satisfied: entrypoints>=0.2.2 in c:\\users\\hp\\anaconda3\\lib\\site-packages (from nbconvert->notebook>=4.4.1->widgetsnbextension~=3.5.0->ipywidgets>=7.6.5->pycaret) (0.4)\n",
      "Requirement already satisfied: testpath in c:\\users\\hp\\anaconda3\\lib\\site-packages (from nbconvert->notebook>=4.4.1->widgetsnbextension~=3.5.0->ipywidgets>=7.6.5->pycaret) (0.5.0)\n",
      "Requirement already satisfied: bleach in c:\\users\\hp\\anaconda3\\lib\\site-packages (from nbconvert->notebook>=4.4.1->widgetsnbextension~=3.5.0->ipywidgets>=7.6.5->pycaret) (4.1.0)\n",
      "Requirement already satisfied: beautifulsoup4 in c:\\users\\hp\\anaconda3\\lib\\site-packages (from nbconvert->notebook>=4.4.1->widgetsnbextension~=3.5.0->ipywidgets>=7.6.5->pycaret) (4.11.1)\n",
      "Requirement already satisfied: jupyterlab-pygments in c:\\users\\hp\\anaconda3\\lib\\site-packages (from nbconvert->notebook>=4.4.1->widgetsnbextension~=3.5.0->ipywidgets>=7.6.5->pycaret) (0.1.2)\n",
      "Requirement already satisfied: soupsieve>1.2 in c:\\users\\hp\\anaconda3\\lib\\site-packages (from beautifulsoup4->nbconvert->notebook>=4.4.1->widgetsnbextension~=3.5.0->ipywidgets>=7.6.5->pycaret) (2.3.1)\n",
      "Requirement already satisfied: webencodings in c:\\users\\hp\\anaconda3\\lib\\site-packages (from bleach->nbconvert->notebook>=4.4.1->widgetsnbextension~=3.5.0->ipywidgets>=7.6.5->pycaret) (0.5.1)\n",
      "Requirement already satisfied: asttokens in c:\\users\\hp\\anaconda3\\lib\\site-packages (from stack-data->ipython>=5.5.0->pycaret) (2.0.5)\n",
      "Requirement already satisfied: pure-eval in c:\\users\\hp\\anaconda3\\lib\\site-packages (from stack-data->ipython>=5.5.0->pycaret) (0.2.2)\n",
      "Requirement already satisfied: executing in c:\\users\\hp\\anaconda3\\lib\\site-packages (from stack-data->ipython>=5.5.0->pycaret) (0.8.3)\n"
     ]
    }
   ],
   "source": [
    "pip install pycaret"
   ]
  },
  {
   "cell_type": "markdown",
   "metadata": {},
   "source": [
    "Setting up the Environment and Importing Libraries"
   ]
  },
  {
   "cell_type": "code",
   "execution_count": 15,
   "metadata": {},
   "outputs": [],
   "source": [
    "from pycaret.regression import *\n"
   ]
  },
  {
   "cell_type": "markdown",
   "metadata": {},
   "source": [
    "Prepare  data for analysis and set up the PyCaret environment:"
   ]
  },
  {
   "cell_type": "code",
   "execution_count": 16,
   "metadata": {},
   "outputs": [
    {
     "data": {
      "text/html": [
       "<style type=\"text/css\">\n",
       "#T_dff1e_row7_col1 {\n",
       "  background-color: lightgreen;\n",
       "}\n",
       "</style>\n",
       "<table id=\"T_dff1e\">\n",
       "  <thead>\n",
       "    <tr>\n",
       "      <th class=\"blank level0\" >&nbsp;</th>\n",
       "      <th id=\"T_dff1e_level0_col0\" class=\"col_heading level0 col0\" >Description</th>\n",
       "      <th id=\"T_dff1e_level0_col1\" class=\"col_heading level0 col1\" >Value</th>\n",
       "    </tr>\n",
       "  </thead>\n",
       "  <tbody>\n",
       "    <tr>\n",
       "      <th id=\"T_dff1e_level0_row0\" class=\"row_heading level0 row0\" >0</th>\n",
       "      <td id=\"T_dff1e_row0_col0\" class=\"data row0 col0\" >Session id</td>\n",
       "      <td id=\"T_dff1e_row0_col1\" class=\"data row0 col1\" >123</td>\n",
       "    </tr>\n",
       "    <tr>\n",
       "      <th id=\"T_dff1e_level0_row1\" class=\"row_heading level0 row1\" >1</th>\n",
       "      <td id=\"T_dff1e_row1_col0\" class=\"data row1 col0\" >Target</td>\n",
       "      <td id=\"T_dff1e_row1_col1\" class=\"data row1 col1\" >Sales</td>\n",
       "    </tr>\n",
       "    <tr>\n",
       "      <th id=\"T_dff1e_level0_row2\" class=\"row_heading level0 row2\" >2</th>\n",
       "      <td id=\"T_dff1e_row2_col0\" class=\"data row2 col0\" >Target type</td>\n",
       "      <td id=\"T_dff1e_row2_col1\" class=\"data row2 col1\" >Regression</td>\n",
       "    </tr>\n",
       "    <tr>\n",
       "      <th id=\"T_dff1e_level0_row3\" class=\"row_heading level0 row3\" >3</th>\n",
       "      <td id=\"T_dff1e_row3_col0\" class=\"data row3 col0\" >Original data shape</td>\n",
       "      <td id=\"T_dff1e_row3_col1\" class=\"data row3 col1\" >(384, 1)</td>\n",
       "    </tr>\n",
       "    <tr>\n",
       "      <th id=\"T_dff1e_level0_row4\" class=\"row_heading level0 row4\" >4</th>\n",
       "      <td id=\"T_dff1e_row4_col0\" class=\"data row4 col0\" >Transformed data shape</td>\n",
       "      <td id=\"T_dff1e_row4_col1\" class=\"data row4 col1\" >(384, 1)</td>\n",
       "    </tr>\n",
       "    <tr>\n",
       "      <th id=\"T_dff1e_level0_row5\" class=\"row_heading level0 row5\" >5</th>\n",
       "      <td id=\"T_dff1e_row5_col0\" class=\"data row5 col0\" >Transformed train set shape</td>\n",
       "      <td id=\"T_dff1e_row5_col1\" class=\"data row5 col1\" >(268, 1)</td>\n",
       "    </tr>\n",
       "    <tr>\n",
       "      <th id=\"T_dff1e_level0_row6\" class=\"row_heading level0 row6\" >6</th>\n",
       "      <td id=\"T_dff1e_row6_col0\" class=\"data row6 col0\" >Transformed test set shape</td>\n",
       "      <td id=\"T_dff1e_row6_col1\" class=\"data row6 col1\" >(116, 1)</td>\n",
       "    </tr>\n",
       "    <tr>\n",
       "      <th id=\"T_dff1e_level0_row7\" class=\"row_heading level0 row7\" >7</th>\n",
       "      <td id=\"T_dff1e_row7_col0\" class=\"data row7 col0\" >Preprocess</td>\n",
       "      <td id=\"T_dff1e_row7_col1\" class=\"data row7 col1\" >True</td>\n",
       "    </tr>\n",
       "    <tr>\n",
       "      <th id=\"T_dff1e_level0_row8\" class=\"row_heading level0 row8\" >8</th>\n",
       "      <td id=\"T_dff1e_row8_col0\" class=\"data row8 col0\" >Imputation type</td>\n",
       "      <td id=\"T_dff1e_row8_col1\" class=\"data row8 col1\" >simple</td>\n",
       "    </tr>\n",
       "    <tr>\n",
       "      <th id=\"T_dff1e_level0_row9\" class=\"row_heading level0 row9\" >9</th>\n",
       "      <td id=\"T_dff1e_row9_col0\" class=\"data row9 col0\" >Numeric imputation</td>\n",
       "      <td id=\"T_dff1e_row9_col1\" class=\"data row9 col1\" >mean</td>\n",
       "    </tr>\n",
       "    <tr>\n",
       "      <th id=\"T_dff1e_level0_row10\" class=\"row_heading level0 row10\" >10</th>\n",
       "      <td id=\"T_dff1e_row10_col0\" class=\"data row10 col0\" >Categorical imputation</td>\n",
       "      <td id=\"T_dff1e_row10_col1\" class=\"data row10 col1\" >mode</td>\n",
       "    </tr>\n",
       "    <tr>\n",
       "      <th id=\"T_dff1e_level0_row11\" class=\"row_heading level0 row11\" >11</th>\n",
       "      <td id=\"T_dff1e_row11_col0\" class=\"data row11 col0\" >Transform target</td>\n",
       "      <td id=\"T_dff1e_row11_col1\" class=\"data row11 col1\" >box-cox</td>\n",
       "    </tr>\n",
       "    <tr>\n",
       "      <th id=\"T_dff1e_level0_row12\" class=\"row_heading level0 row12\" >12</th>\n",
       "      <td id=\"T_dff1e_row12_col0\" class=\"data row12 col0\" >Transform target method</td>\n",
       "      <td id=\"T_dff1e_row12_col1\" class=\"data row12 col1\" >yeo-johnson</td>\n",
       "    </tr>\n",
       "    <tr>\n",
       "      <th id=\"T_dff1e_level0_row13\" class=\"row_heading level0 row13\" >13</th>\n",
       "      <td id=\"T_dff1e_row13_col0\" class=\"data row13 col0\" >Fold Generator</td>\n",
       "      <td id=\"T_dff1e_row13_col1\" class=\"data row13 col1\" >KFold</td>\n",
       "    </tr>\n",
       "    <tr>\n",
       "      <th id=\"T_dff1e_level0_row14\" class=\"row_heading level0 row14\" >14</th>\n",
       "      <td id=\"T_dff1e_row14_col0\" class=\"data row14 col0\" >Fold Number</td>\n",
       "      <td id=\"T_dff1e_row14_col1\" class=\"data row14 col1\" >10</td>\n",
       "    </tr>\n",
       "    <tr>\n",
       "      <th id=\"T_dff1e_level0_row15\" class=\"row_heading level0 row15\" >15</th>\n",
       "      <td id=\"T_dff1e_row15_col0\" class=\"data row15 col0\" >CPU Jobs</td>\n",
       "      <td id=\"T_dff1e_row15_col1\" class=\"data row15 col1\" >-1</td>\n",
       "    </tr>\n",
       "    <tr>\n",
       "      <th id=\"T_dff1e_level0_row16\" class=\"row_heading level0 row16\" >16</th>\n",
       "      <td id=\"T_dff1e_row16_col0\" class=\"data row16 col0\" >Use GPU</td>\n",
       "      <td id=\"T_dff1e_row16_col1\" class=\"data row16 col1\" >False</td>\n",
       "    </tr>\n",
       "    <tr>\n",
       "      <th id=\"T_dff1e_level0_row17\" class=\"row_heading level0 row17\" >17</th>\n",
       "      <td id=\"T_dff1e_row17_col0\" class=\"data row17 col0\" >Log Experiment</td>\n",
       "      <td id=\"T_dff1e_row17_col1\" class=\"data row17 col1\" >False</td>\n",
       "    </tr>\n",
       "    <tr>\n",
       "      <th id=\"T_dff1e_level0_row18\" class=\"row_heading level0 row18\" >18</th>\n",
       "      <td id=\"T_dff1e_row18_col0\" class=\"data row18 col0\" >Experiment Name</td>\n",
       "      <td id=\"T_dff1e_row18_col1\" class=\"data row18 col1\" >reg-default-name</td>\n",
       "    </tr>\n",
       "    <tr>\n",
       "      <th id=\"T_dff1e_level0_row19\" class=\"row_heading level0 row19\" >19</th>\n",
       "      <td id=\"T_dff1e_row19_col0\" class=\"data row19 col0\" >USI</td>\n",
       "      <td id=\"T_dff1e_row19_col1\" class=\"data row19 col1\" >9596</td>\n",
       "    </tr>\n",
       "  </tbody>\n",
       "</table>\n"
      ],
      "text/plain": [
       "<pandas.io.formats.style.Styler at 0x298003bb310>"
      ]
     },
     "metadata": {},
     "output_type": "display_data"
    }
   ],
   "source": [
    "exp = setup(monthly_sales_df, session_id=123, transform_target='box-cox')\n"
   ]
  },
  {
   "cell_type": "markdown",
   "metadata": {},
   "source": [
    " Model Selection and Evaluation "
   ]
  },
  {
   "cell_type": "code",
   "execution_count": 17,
   "metadata": {},
   "outputs": [
    {
     "data": {
      "text/html": [],
      "text/plain": [
       "<IPython.core.display.HTML object>"
      ]
     },
     "metadata": {},
     "output_type": "display_data"
    },
    {
     "data": {
      "text/html": [],
      "text/plain": [
       "<IPython.core.display.HTML object>"
      ]
     },
     "metadata": {},
     "output_type": "display_data"
    },
    {
     "data": {
      "application/vnd.jupyter.widget-view+json": {
       "model_id": "76d1731a3001411b8fdd299df044a91b",
       "version_major": 2,
       "version_minor": 0
      },
      "text/plain": [
       "Processing:   0%|          | 0/77 [00:00<?, ?it/s]"
      ]
     },
     "metadata": {},
     "output_type": "display_data"
    }
   ],
   "source": [
    "best_model = compare_models(sort='MAPE', fold=10, round=2)\n"
   ]
  },
  {
   "cell_type": "markdown",
   "metadata": {},
   "source": [
    "Create the Best Model"
   ]
  },
  {
   "cell_type": "code",
   "execution_count": 18,
   "metadata": {},
   "outputs": [
    {
     "data": {
      "text/html": [],
      "text/plain": [
       "<IPython.core.display.HTML object>"
      ]
     },
     "metadata": {},
     "output_type": "display_data"
    },
    {
     "data": {
      "text/html": [
       "<style type=\"text/css\">\n",
       "#T_9633e_row10_col0, #T_9633e_row10_col1, #T_9633e_row10_col2, #T_9633e_row10_col3, #T_9633e_row10_col4, #T_9633e_row10_col5 {\n",
       "  background: yellow;\n",
       "}\n",
       "</style>\n",
       "<table id=\"T_9633e\">\n",
       "  <thead>\n",
       "    <tr>\n",
       "      <th class=\"blank level0\" >&nbsp;</th>\n",
       "      <th id=\"T_9633e_level0_col0\" class=\"col_heading level0 col0\" >MAE</th>\n",
       "      <th id=\"T_9633e_level0_col1\" class=\"col_heading level0 col1\" >MSE</th>\n",
       "      <th id=\"T_9633e_level0_col2\" class=\"col_heading level0 col2\" >RMSE</th>\n",
       "      <th id=\"T_9633e_level0_col3\" class=\"col_heading level0 col3\" >R2</th>\n",
       "      <th id=\"T_9633e_level0_col4\" class=\"col_heading level0 col4\" >RMSLE</th>\n",
       "      <th id=\"T_9633e_level0_col5\" class=\"col_heading level0 col5\" >MAPE</th>\n",
       "    </tr>\n",
       "    <tr>\n",
       "      <th class=\"index_name level0\" >Fold</th>\n",
       "      <th class=\"blank col0\" >&nbsp;</th>\n",
       "      <th class=\"blank col1\" >&nbsp;</th>\n",
       "      <th class=\"blank col2\" >&nbsp;</th>\n",
       "      <th class=\"blank col3\" >&nbsp;</th>\n",
       "      <th class=\"blank col4\" >&nbsp;</th>\n",
       "      <th class=\"blank col5\" >&nbsp;</th>\n",
       "    </tr>\n",
       "  </thead>\n",
       "  <tbody>\n",
       "    <tr>\n",
       "      <th id=\"T_9633e_level0_row0\" class=\"row_heading level0 row0\" >0</th>\n",
       "      <td id=\"T_9633e_row0_col0\" class=\"data row0 col0\" >24227.2031</td>\n",
       "      <td id=\"T_9633e_row0_col1\" class=\"data row0 col1\" >1154641792.0000</td>\n",
       "      <td id=\"T_9633e_row0_col2\" class=\"data row0 col2\" >33980.0195</td>\n",
       "      <td id=\"T_9633e_row0_col3\" class=\"data row0 col3\" >-0.0798</td>\n",
       "      <td id=\"T_9633e_row0_col4\" class=\"data row0 col4\" >0.9205</td>\n",
       "      <td id=\"T_9633e_row0_col5\" class=\"data row0 col5\" >1.0053</td>\n",
       "    </tr>\n",
       "    <tr>\n",
       "      <th id=\"T_9633e_level0_row1\" class=\"row_heading level0 row1\" >1</th>\n",
       "      <td id=\"T_9633e_row1_col0\" class=\"data row1 col0\" >30624.4258</td>\n",
       "      <td id=\"T_9633e_row1_col1\" class=\"data row1 col1\" >1902856832.0000</td>\n",
       "      <td id=\"T_9633e_row1_col2\" class=\"data row1 col2\" >43621.7461</td>\n",
       "      <td id=\"T_9633e_row1_col3\" class=\"data row1 col3\" >-0.3092</td>\n",
       "      <td id=\"T_9633e_row1_col4\" class=\"data row1 col4\" >0.9492</td>\n",
       "      <td id=\"T_9633e_row1_col5\" class=\"data row1 col5\" >0.7553</td>\n",
       "    </tr>\n",
       "    <tr>\n",
       "      <th id=\"T_9633e_level0_row2\" class=\"row_heading level0 row2\" >2</th>\n",
       "      <td id=\"T_9633e_row2_col0\" class=\"data row2 col0\" >15427.9648</td>\n",
       "      <td id=\"T_9633e_row2_col1\" class=\"data row2 col1\" >522825568.0000</td>\n",
       "      <td id=\"T_9633e_row2_col2\" class=\"data row2 col2\" >22865.3789</td>\n",
       "      <td id=\"T_9633e_row2_col3\" class=\"data row2 col3\" >-0.1355</td>\n",
       "      <td id=\"T_9633e_row2_col4\" class=\"data row2 col4\" >0.6893</td>\n",
       "      <td id=\"T_9633e_row2_col5\" class=\"data row2 col5\" >0.6281</td>\n",
       "    </tr>\n",
       "    <tr>\n",
       "      <th id=\"T_9633e_level0_row3\" class=\"row_heading level0 row3\" >3</th>\n",
       "      <td id=\"T_9633e_row3_col0\" class=\"data row3 col0\" >24590.3887</td>\n",
       "      <td id=\"T_9633e_row3_col1\" class=\"data row3 col1\" >1097688192.0000</td>\n",
       "      <td id=\"T_9633e_row3_col2\" class=\"data row3 col2\" >33131.3789</td>\n",
       "      <td id=\"T_9633e_row3_col3\" class=\"data row3 col3\" >-0.2591</td>\n",
       "      <td id=\"T_9633e_row3_col4\" class=\"data row3 col4\" >0.8351</td>\n",
       "      <td id=\"T_9633e_row3_col5\" class=\"data row3 col5\" >0.7321</td>\n",
       "    </tr>\n",
       "    <tr>\n",
       "      <th id=\"T_9633e_level0_row4\" class=\"row_heading level0 row4\" >4</th>\n",
       "      <td id=\"T_9633e_row4_col0\" class=\"data row4 col0\" >14461.3291</td>\n",
       "      <td id=\"T_9633e_row4_col1\" class=\"data row4 col1\" >511319456.0000</td>\n",
       "      <td id=\"T_9633e_row4_col2\" class=\"data row4 col2\" >22612.3730</td>\n",
       "      <td id=\"T_9633e_row4_col3\" class=\"data row4 col3\" >-0.0885</td>\n",
       "      <td id=\"T_9633e_row4_col4\" class=\"data row4 col4\" >0.6108</td>\n",
       "      <td id=\"T_9633e_row4_col5\" class=\"data row4 col5\" >0.4893</td>\n",
       "    </tr>\n",
       "    <tr>\n",
       "      <th id=\"T_9633e_level0_row5\" class=\"row_heading level0 row5\" >5</th>\n",
       "      <td id=\"T_9633e_row5_col0\" class=\"data row5 col0\" >19622.3203</td>\n",
       "      <td id=\"T_9633e_row5_col1\" class=\"data row5 col1\" >845830272.0000</td>\n",
       "      <td id=\"T_9633e_row5_col2\" class=\"data row5 col2\" >29083.1621</td>\n",
       "      <td id=\"T_9633e_row5_col3\" class=\"data row5 col3\" >-0.1854</td>\n",
       "      <td id=\"T_9633e_row5_col4\" class=\"data row5 col4\" >0.7582</td>\n",
       "      <td id=\"T_9633e_row5_col5\" class=\"data row5 col5\" >0.6812</td>\n",
       "    </tr>\n",
       "    <tr>\n",
       "      <th id=\"T_9633e_level0_row6\" class=\"row_heading level0 row6\" >6</th>\n",
       "      <td id=\"T_9633e_row6_col0\" class=\"data row6 col0\" >16253.6582</td>\n",
       "      <td id=\"T_9633e_row6_col1\" class=\"data row6 col1\" >589179904.0000</td>\n",
       "      <td id=\"T_9633e_row6_col2\" class=\"data row6 col2\" >24273.0293</td>\n",
       "      <td id=\"T_9633e_row6_col3\" class=\"data row6 col3\" >-0.0177</td>\n",
       "      <td id=\"T_9633e_row6_col4\" class=\"data row6 col4\" >0.7386</td>\n",
       "      <td id=\"T_9633e_row6_col5\" class=\"data row6 col5\" >0.7903</td>\n",
       "    </tr>\n",
       "    <tr>\n",
       "      <th id=\"T_9633e_level0_row7\" class=\"row_heading level0 row7\" >7</th>\n",
       "      <td id=\"T_9633e_row7_col0\" class=\"data row7 col0\" >21864.7891</td>\n",
       "      <td id=\"T_9633e_row7_col1\" class=\"data row7 col1\" >1081535104.0000</td>\n",
       "      <td id=\"T_9633e_row7_col2\" class=\"data row7 col2\" >32886.6992</td>\n",
       "      <td id=\"T_9633e_row7_col3\" class=\"data row7 col3\" >-0.0679</td>\n",
       "      <td id=\"T_9633e_row7_col4\" class=\"data row7 col4\" >0.9110</td>\n",
       "      <td id=\"T_9633e_row7_col5\" class=\"data row7 col5\" >1.0102</td>\n",
       "    </tr>\n",
       "    <tr>\n",
       "      <th id=\"T_9633e_level0_row8\" class=\"row_heading level0 row8\" >8</th>\n",
       "      <td id=\"T_9633e_row8_col0\" class=\"data row8 col0\" >25136.6973</td>\n",
       "      <td id=\"T_9633e_row8_col1\" class=\"data row8 col1\" >1352633472.0000</td>\n",
       "      <td id=\"T_9633e_row8_col2\" class=\"data row8 col2\" >36778.1641</td>\n",
       "      <td id=\"T_9633e_row8_col3\" class=\"data row8 col3\" >-0.2662</td>\n",
       "      <td id=\"T_9633e_row8_col4\" class=\"data row8 col4\" >0.8633</td>\n",
       "      <td id=\"T_9633e_row8_col5\" class=\"data row8 col5\" >0.7044</td>\n",
       "    </tr>\n",
       "    <tr>\n",
       "      <th id=\"T_9633e_level0_row9\" class=\"row_heading level0 row9\" >9</th>\n",
       "      <td id=\"T_9633e_row9_col0\" class=\"data row9 col0\" >23969.9297</td>\n",
       "      <td id=\"T_9633e_row9_col1\" class=\"data row9 col1\" >1400396416.0000</td>\n",
       "      <td id=\"T_9633e_row9_col2\" class=\"data row9 col2\" >37421.8711</td>\n",
       "      <td id=\"T_9633e_row9_col3\" class=\"data row9 col3\" >-0.0879</td>\n",
       "      <td id=\"T_9633e_row9_col4\" class=\"data row9 col4\" >0.8633</td>\n",
       "      <td id=\"T_9633e_row9_col5\" class=\"data row9 col5\" >0.8174</td>\n",
       "    </tr>\n",
       "    <tr>\n",
       "      <th id=\"T_9633e_level0_row10\" class=\"row_heading level0 row10\" >Mean</th>\n",
       "      <td id=\"T_9633e_row10_col0\" class=\"data row10 col0\" >21617.8706</td>\n",
       "      <td id=\"T_9633e_row10_col1\" class=\"data row10 col1\" >1045890700.8000</td>\n",
       "      <td id=\"T_9633e_row10_col2\" class=\"data row10 col2\" >31665.3822</td>\n",
       "      <td id=\"T_9633e_row10_col3\" class=\"data row10 col3\" >-0.1497</td>\n",
       "      <td id=\"T_9633e_row10_col4\" class=\"data row10 col4\" >0.8139</td>\n",
       "      <td id=\"T_9633e_row10_col5\" class=\"data row10 col5\" >0.7614</td>\n",
       "    </tr>\n",
       "    <tr>\n",
       "      <th id=\"T_9633e_level0_row11\" class=\"row_heading level0 row11\" >Std</th>\n",
       "      <td id=\"T_9633e_row11_col0\" class=\"data row11 col0\" >4868.5298</td>\n",
       "      <td id=\"T_9633e_row11_col1\" class=\"data row11 col1\" >421652600.9918</td>\n",
       "      <td id=\"T_9633e_row11_col2\" class=\"data row11 col2\" >6572.2327</td>\n",
       "      <td id=\"T_9633e_row11_col3\" class=\"data row11 col3\" >0.0944</td>\n",
       "      <td id=\"T_9633e_row11_col4\" class=\"data row11 col4\" >0.1049</td>\n",
       "      <td id=\"T_9633e_row11_col5\" class=\"data row11 col5\" >0.1509</td>\n",
       "    </tr>\n",
       "  </tbody>\n",
       "</table>\n"
      ],
      "text/plain": [
       "<pandas.io.formats.style.Styler at 0x298004f4730>"
      ]
     },
     "metadata": {},
     "output_type": "display_data"
    },
    {
     "data": {
      "application/vnd.jupyter.widget-view+json": {
       "model_id": "d66d3290414e4e9299f6bc4c9eb9fa87",
       "version_major": 2,
       "version_minor": 0
      },
      "text/plain": [
       "Processing:   0%|          | 0/4 [00:00<?, ?it/s]"
      ]
     },
     "metadata": {},
     "output_type": "display_data"
    }
   ],
   "source": [
    "final_model = create_model(best_model)\n"
   ]
  },
  {
   "cell_type": "markdown",
   "metadata": {},
   "source": [
    "Model Tuning"
   ]
  },
  {
   "cell_type": "markdown",
   "metadata": {},
   "source": [
    " Future Prediction\n",
    "Refit the tuned champion model to the entire dataset and predict the value for December 2023:"
   ]
  },
  {
   "cell_type": "code",
   "execution_count": 19,
   "metadata": {},
   "outputs": [
    {
     "name": "stdout",
     "output_type": "stream",
     "text": [
      "               Sales\n",
      "Date                \n",
      "1992-12-01    8701.0\n",
      "1993-12-01    9930.0\n",
      "1994-12-01   10757.0\n",
      "1995-12-01   12166.0\n",
      "1996-12-01   13900.0\n",
      "1997-12-01   13848.0\n",
      "1998-12-01   14921.0\n",
      "1999-12-01   17618.0\n",
      "2000-12-01   20598.0\n",
      "2001-12-01   18311.0\n",
      "2002-12-01   21163.0\n",
      "2003-12-01   23377.0\n",
      "2004-12-01   26489.0\n",
      "2005-12-01   29879.0\n",
      "2006-12-01   31179.0\n",
      "2007-12-01   33990.0\n",
      "2008-12-01   34054.0\n",
      "2009-12-01   37480.0\n",
      "2010-12-01   41336.0\n",
      "2011-12-01   44598.0\n",
      "2012-12-01   47301.0\n",
      "2013-12-01   52433.0\n",
      "2014-12-01   57038.0\n",
      "2015-12-01   60775.0\n",
      "2016-12-01   66493.0\n",
      "2017-12-01   73645.0\n",
      "2018-12-01   72451.0\n",
      "2019-12-01   90025.0\n",
      "2020-12-01  113216.0\n",
      "2021-12-01  121701.0\n",
      "2022-12-01  133107.0\n",
      "2023-12-01  133107.0\n"
     ]
    }
   ],
   "source": [
    "# since 'Date' column exists and is in datetime format\n",
    "new_data = monthly_sales_df[monthly_sales_df.index.month == 12]\n",
    "print(new_data)\n"
   ]
  },
  {
   "cell_type": "code",
   "execution_count": 20,
   "metadata": {},
   "outputs": [
    {
     "data": {
      "text/html": [],
      "text/plain": [
       "<IPython.core.display.HTML object>"
      ]
     },
     "metadata": {},
     "output_type": "display_data"
    },
    {
     "data": {
      "text/html": [
       "<div>\n",
       "<style scoped>\n",
       "    .dataframe tbody tr th:only-of-type {\n",
       "        vertical-align: middle;\n",
       "    }\n",
       "\n",
       "    .dataframe tbody tr th {\n",
       "        vertical-align: top;\n",
       "    }\n",
       "\n",
       "    .dataframe thead th {\n",
       "        text-align: right;\n",
       "    }\n",
       "</style>\n",
       "<table border=\"1\" class=\"dataframe\">\n",
       "  <thead>\n",
       "    <tr style=\"text-align: right;\">\n",
       "      <th></th>\n",
       "      <th>Sales</th>\n",
       "      <th>prediction_label</th>\n",
       "    </tr>\n",
       "    <tr>\n",
       "      <th>Date</th>\n",
       "      <th></th>\n",
       "      <th></th>\n",
       "    </tr>\n",
       "  </thead>\n",
       "  <tbody>\n",
       "    <tr>\n",
       "      <th>2023-12-01</th>\n",
       "      <td>133107.0</td>\n",
       "      <td>24354.009766</td>\n",
       "    </tr>\n",
       "  </tbody>\n",
       "</table>\n",
       "</div>"
      ],
      "text/plain": [
       "               Sales  prediction_label\n",
       "Date                                  \n",
       "2023-12-01  133107.0      24354.009766"
      ]
     },
     "execution_count": 20,
     "metadata": {},
     "output_type": "execute_result"
    }
   ],
   "source": [
    "# Predict for December 2023\n",
    "predictions = predict_model(final_model, data=new_data)\n",
    "predictions['prediction_label'] = predictions['prediction_label'].round(2)\n",
    "predictions.tail(1)"
   ]
  }
 ],
 "metadata": {
  "kernelspec": {
   "display_name": "base",
   "language": "python",
   "name": "python3"
  },
  "language_info": {
   "codemirror_mode": {
    "name": "ipython",
    "version": 3
   },
   "file_extension": ".py",
   "mimetype": "text/x-python",
   "name": "python",
   "nbconvert_exporter": "python",
   "pygments_lexer": "ipython3",
   "version": "3.9.12"
  }
 },
 "nbformat": 4,
 "nbformat_minor": 2
}
